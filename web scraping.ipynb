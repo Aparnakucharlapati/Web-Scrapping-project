{
 "cells": [
  {
   "cell_type": "code",
   "execution_count": 1,
   "id": "2df9663b",
   "metadata": {
    "ExecuteTime": {
     "end_time": "2022-12-12T19:52:33.860258Z",
     "start_time": "2022-12-12T19:52:32.928054Z"
    }
   },
   "outputs": [],
   "source": [
    "import requests\n",
    "from bs4 import BeautifulSoup\n",
    "\n",
    "import numpy as np\n",
    "import pandas as pd\n",
    "import re\n"
   ]
  },
  {
   "cell_type": "code",
   "execution_count": 2,
   "id": "3d3ec3ed",
   "metadata": {
    "ExecuteTime": {
     "end_time": "2022-12-12T19:52:36.675647Z",
     "start_time": "2022-12-12T19:52:36.659648Z"
    }
   },
   "outputs": [],
   "source": [
    "Doctors_name=[]\n",
    "Experience=[]\n",
    "consultation_fee=[]\n",
    "Location=[]\n",
    "City=[]\n",
    "Hospital_name=[]\n",
    "Recomendation=[]\n",
    "speciality=[]\n"
   ]
  },
  {
   "cell_type": "code",
   "execution_count": null,
   "id": "1404c2fa",
   "metadata": {
    "ExecuteTime": {
     "end_time": "2022-12-12T19:41:19.813605Z",
     "start_time": "2022-12-12T19:41:19.789606Z"
    }
   },
   "outputs": [],
   "source": []
  },
  {
   "cell_type": "code",
   "execution_count": 17,
   "id": "221f667c",
   "metadata": {
    "ExecuteTime": {
     "end_time": "2022-12-12T19:59:50.010755Z",
     "start_time": "2022-12-12T19:59:49.073394Z"
    }
   },
   "outputs": [],
   "source": [
    "page = requests.get('https://www.practo.com/search/doctors?results_type=doctor&q=%5B%7B%22word%22%3A%22Ayurveda%22%2C%22autocompleted%22%3Atrue%2C%22category%22%3A%22subspeciality%22%7D%5D&city=Pune')\n",
    "page\n",
    "soup = BeautifulSoup(page.text)\n",
    "\n",
    "bdoct=soup.find_all('h2', class_=\"doctor-name\")\n",
    "for i in bdoct:\n",
    "    Doctors_name.append(i.text)\n",
    "    \n",
    "for i in soup.find_all('div', {\"data-qa-id\":\"doctor_experience\"}):\n",
    "    Experience.append(i.text)\n",
    "    \n",
    "for i in soup.find_all('span', {\"data-qa-id\":\"consultation_fee\"}):\n",
    "    consultation_fee.append(i.text)\n",
    "    \n",
    "#for i in soup.find_all('div', class_=\"u-grey_3-text\"):\n",
    "#a=str(soup.find_all('div', class_=\"u-grey_3-text\"))\n",
    "#b=re.findall(r\"<span>(\\w+)<\",a)\n",
    "#speciality.append(b)\n",
    "\n",
    "for i in soup.find_all('span', {'data-qa-id' :\"practice_locality\"}):\n",
    "    Location.append(i.text)\n",
    "    \n",
    "for i in soup.find_all('span', class_='u-t-capitalize'):\n",
    "    City.append(i.text)\n",
    "    \n",
    "for i in soup.find_all('span', class_='u-c-pointer u-t-hover-underline'):\n",
    "    Hospital_name.append(i.text)\n",
    "    \n",
    "for i in soup.find_all('span', {\"data-qa-id\":\"doctor_recommendation\"}):\n",
    "    Recomendation.append(i.text)\n"
   ]
  },
  {
   "cell_type": "code",
   "execution_count": 193,
   "id": "d2eab2ab",
   "metadata": {
    "ExecuteTime": {
     "end_time": "2022-12-12T19:31:56.259788Z",
     "start_time": "2022-12-12T19:31:54.509589Z"
    }
   },
   "outputs": [],
   "source": [
    "page = requests.get('')\n",
    "page\n",
    "soup = BeautifulSoup(page.text)\n",
    "\n",
    "for i in soup.find_all('div', class_=\"u-grey_3-text\"):\n",
    "    a=str(soup.find_all('div', class_=\"u-grey_3-text\"))\n",
    "    b=re.findall(r\"(Ear-Nose-Throat)\",a)\n",
    "    \n"
   ]
  },
  {
   "cell_type": "code",
   "execution_count": 189,
   "id": "49f4937b",
   "metadata": {
    "ExecuteTime": {
     "end_time": "2022-12-12T19:30:29.723648Z",
     "start_time": "2022-12-12T19:30:29.699624Z"
    }
   },
   "outputs": [
    {
     "data": {
      "text/plain": [
       "'General Physician'"
      ]
     },
     "execution_count": 189,
     "metadata": {},
     "output_type": "execute_result"
    }
   ],
   "source": [
    "#b.pop(1)"
   ]
  },
  {
   "cell_type": "code",
   "execution_count": 194,
   "id": "2dc7e9de",
   "metadata": {
    "ExecuteTime": {
     "end_time": "2022-12-12T19:31:57.611870Z",
     "start_time": "2022-12-12T19:31:57.595871Z"
    }
   },
   "outputs": [
    {
     "data": {
      "text/plain": [
       "['Ear-Nose-Throat',\n",
       " 'Ear-Nose-Throat',\n",
       " 'Ear-Nose-Throat',\n",
       " 'Ear-Nose-Throat',\n",
       " 'Ear-Nose-Throat',\n",
       " 'Ear-Nose-Throat',\n",
       " 'Ear-Nose-Throat',\n",
       " 'Ear-Nose-Throat',\n",
       " 'Ear-Nose-Throat',\n",
       " 'Ear-Nose-Throat']"
      ]
     },
     "execution_count": 194,
     "metadata": {},
     "output_type": "execute_result"
    }
   ],
   "source": [
    "b"
   ]
  },
  {
   "cell_type": "code",
   "execution_count": null,
   "id": "97144e8a",
   "metadata": {},
   "outputs": [],
   "source": [
    "speciality.append(b)"
   ]
  },
  {
   "cell_type": "code",
   "execution_count": null,
   "id": "406906d4",
   "metadata": {
    "ExecuteTime": {
     "end_time": "2022-12-12T19:27:31.823203Z",
     "start_time": "2022-12-12T19:27:31.807178Z"
    }
   },
   "outputs": [],
   "source": []
  },
  {
   "cell_type": "code",
   "execution_count": 199,
   "id": "84a37687",
   "metadata": {
    "ExecuteTime": {
     "end_time": "2022-12-12T19:33:38.161269Z",
     "start_time": "2022-12-12T19:33:38.137526Z"
    }
   },
   "outputs": [
    {
     "data": {
      "text/plain": [
       "[['Dentist',\n",
       "  'Dentist',\n",
       "  'Dentist',\n",
       "  'Dentist',\n",
       "  'Dentist',\n",
       "  'Dentist',\n",
       "  'Dentist',\n",
       "  'Dentist',\n",
       "  'Dentist',\n",
       "  'Dentist',\n",
       "  'Dentist'],\n",
       " ['Gynecologist/Obstetrician',\n",
       "  'Gynecologist/Obstetrician',\n",
       "  'Gynecologist/Obstetrician',\n",
       "  'Gynecologist/Obstetrician',\n",
       "  'Gynecologist/Obstetrician',\n",
       "  'Gynecologist/Obstetrician',\n",
       "  'Gynecologist/Obstetrician',\n",
       "  'Gynecologist/Obstetrician',\n",
       "  'Gynecologist/Obstetrician',\n",
       "  'Gynecologist/Obstetrician',\n",
       "  'Gynecologist/Obstetrician'],\n",
       " ['General Physician',\n",
       "  'General Physician',\n",
       "  'General Physician',\n",
       "  'General Physician',\n",
       "  'General Physician',\n",
       "  'General Physician',\n",
       "  'General Physician',\n",
       "  'General Physician',\n",
       "  'General Physician',\n",
       "  'General Physician'],\n",
       " ['Dermatologist',\n",
       "  'Dermatologist',\n",
       "  'Dermatologist',\n",
       "  'Dermatologist',\n",
       "  'Dermatologist',\n",
       "  'Dermatologist',\n",
       "  'Dermatologist',\n",
       "  'Dermatologist',\n",
       "  'Dermatologist',\n",
       "  'Dermatologist',\n",
       "  'Dermatologist'],\n",
       " ['Ear-Nose-Throat',\n",
       "  'Ear-Nose-Throat',\n",
       "  'Ear-Nose-Throat',\n",
       "  'Ear-Nose-Throat',\n",
       "  'Ear-Nose-Throat',\n",
       "  'Ear-Nose-Throat',\n",
       "  'Ear-Nose-Throat',\n",
       "  'Ear-Nose-Throat',\n",
       "  'Ear-Nose-Throat',\n",
       "  'Ear-Nose-Throat'],\n",
       " ['Homoeopath',\n",
       "  'Homoeopath',\n",
       "  'Homoeopath',\n",
       "  'Homoeopath',\n",
       "  'Homoeopath',\n",
       "  'Homoeopath',\n",
       "  'Homoeopath',\n",
       "  'Homoeopath',\n",
       "  'Homoeopath',\n",
       "  'Homoeopath',\n",
       "  'Homoeopath'],\n",
       " ['Ayurveda',\n",
       "  'Ayurveda',\n",
       "  'Ayurveda',\n",
       "  'Ayurveda',\n",
       "  'Ayurveda',\n",
       "  'Ayurveda',\n",
       "  'Ayurveda',\n",
       "  'Ayurveda',\n",
       "  'Ayurveda',\n",
       "  'Ayurveda']]"
      ]
     },
     "execution_count": 199,
     "metadata": {},
     "output_type": "execute_result"
    }
   ],
   "source": [
    "speciality"
   ]
  },
  {
   "cell_type": "code",
   "execution_count": 200,
   "id": "add46737",
   "metadata": {
    "ExecuteTime": {
     "end_time": "2022-12-12T19:34:27.065048Z",
     "start_time": "2022-12-12T19:34:27.041262Z"
    }
   },
   "outputs": [],
   "source": [
    "Speciality=[item for elem in speciality for item in elem]\n"
   ]
  },
  {
   "cell_type": "code",
   "execution_count": 220,
   "id": "6fe6890d",
   "metadata": {
    "ExecuteTime": {
     "end_time": "2022-12-12T19:41:14.610405Z",
     "start_time": "2022-12-12T19:41:14.594402Z"
    }
   },
   "outputs": [
    {
     "data": {
      "text/plain": [
       "['Dentist',\n",
       " 'Dentist',\n",
       " 'Dentist',\n",
       " 'Dentist',\n",
       " 'Dentist',\n",
       " 'Dentist',\n",
       " 'Dentist',\n",
       " 'Dentist',\n",
       " 'Dentist',\n",
       " 'Dentist',\n",
       " 'Gynecologist/Obstetrician',\n",
       " 'Gynecologist/Obstetrician',\n",
       " 'Gynecologist/Obstetrician',\n",
       " 'Gynecologist/Obstetrician',\n",
       " 'Gynecologist/Obstetrician',\n",
       " 'Gynecologist/Obstetrician',\n",
       " 'Gynecologist/Obstetrician',\n",
       " 'Gynecologist/Obstetrician',\n",
       " 'Gynecologist/Obstetrician',\n",
       " 'Gynecologist/Obstetrician',\n",
       " 'General Physician',\n",
       " 'General Physician',\n",
       " 'General Physician',\n",
       " 'General Physician',\n",
       " 'General Physician',\n",
       " 'General Physician',\n",
       " 'General Physician',\n",
       " 'General Physician',\n",
       " 'General Physician',\n",
       " 'General Physician',\n",
       " 'Dermatologist',\n",
       " 'Dermatologist',\n",
       " 'Dermatologist',\n",
       " 'Dermatologist',\n",
       " 'Dermatologist',\n",
       " 'Dermatologist',\n",
       " 'Dermatologist',\n",
       " 'Dermatologist',\n",
       " 'Dermatologist',\n",
       " 'Dermatologist',\n",
       " 'Ear-Nose-Throat',\n",
       " 'Ear-Nose-Throat',\n",
       " 'Ear-Nose-Throat',\n",
       " 'Ear-Nose-Throat',\n",
       " 'Ear-Nose-Throat',\n",
       " 'Ear-Nose-Throat',\n",
       " 'Ear-Nose-Throat',\n",
       " 'Ear-Nose-Throat',\n",
       " 'Ear-Nose-Throat',\n",
       " 'Ear-Nose-Throat',\n",
       " 'Homoeopath',\n",
       " 'Homoeopath',\n",
       " 'Homoeopath',\n",
       " 'Homoeopath',\n",
       " 'Homoeopath',\n",
       " 'Homoeopath',\n",
       " 'Homoeopath',\n",
       " 'Homoeopath',\n",
       " 'Homoeopath',\n",
       " 'Homoeopath',\n",
       " 'Ayurveda',\n",
       " 'Ayurveda',\n",
       " 'Ayurveda',\n",
       " 'Ayurveda',\n",
       " 'Ayurveda',\n",
       " 'Ayurveda',\n",
       " 'Ayurveda',\n",
       " 'Ayurveda',\n",
       " 'Ayurveda',\n",
       " 'Ayurveda']"
      ]
     },
     "execution_count": 220,
     "metadata": {},
     "output_type": "execute_result"
    }
   ],
   "source": [
    "Speciality"
   ]
  },
  {
   "cell_type": "code",
   "execution_count": 15,
   "id": "ef8dd124",
   "metadata": {
    "ExecuteTime": {
     "end_time": "2022-12-12T18:52:33.618668Z",
     "start_time": "2022-12-12T18:52:33.594649Z"
    }
   },
   "outputs": [
    {
     "data": {
      "text/plain": [
       "20"
      ]
     },
     "execution_count": 15,
     "metadata": {},
     "output_type": "execute_result"
    }
   ],
   "source": [
    "len(Experience)\n"
   ]
  },
  {
   "cell_type": "code",
   "execution_count": 82,
   "id": "61360778",
   "metadata": {
    "ExecuteTime": {
     "end_time": "2022-12-13T18:42:33.494105Z",
     "start_time": "2022-12-13T18:42:32.600848Z"
    }
   },
   "outputs": [],
   "source": [
    "Experience=re.findall(r'(\\d+)\\W', str(Experience))\n"
   ]
  },
  {
   "cell_type": "code",
   "execution_count": 83,
   "id": "754b2bbc",
   "metadata": {
    "ExecuteTime": {
     "end_time": "2022-12-13T18:42:36.965533Z",
     "start_time": "2022-12-13T18:42:36.869481Z"
    }
   },
   "outputs": [],
   "source": [
    "consultation_fee=re.findall(r'\\W(\\d+)', str(consultation_fee))\n"
   ]
  },
  {
   "cell_type": "code",
   "execution_count": 18,
   "id": "96435ae9",
   "metadata": {
    "ExecuteTime": {
     "end_time": "2022-12-12T20:00:07.037225Z",
     "start_time": "2022-12-12T20:00:05.129849Z"
    }
   },
   "outputs": [],
   "source": [
    "page = requests.get('https://www.practo.com/search/doctors?results_type=doctor&q=%5B%7B%22word%22%3A%22Ayurveda%22%2C%22autocompleted%22%3Atrue%2C%22category%22%3A%22subspeciality%22%7D%5D&city=Pune')\n",
    "page\n",
    "soup = BeautifulSoup(page.text)\n",
    "for i in soup.find_all('span', {'data-qa-id' :\"practice_locality\"}):\n",
    "    location.append(i.text)\n"
   ]
  },
  {
   "cell_type": "code",
   "execution_count": null,
   "id": "b26e5e8a",
   "metadata": {},
   "outputs": [],
   "source": [
    "a=soup.find_all('span', {'data-qa-id' :\"practice_locality\"})\n"
   ]
  },
  {
   "cell_type": "code",
   "execution_count": 78,
   "id": "4ee46795",
   "metadata": {
    "ExecuteTime": {
     "end_time": "2022-12-12T20:09:14.562414Z",
     "start_time": "2022-12-12T20:09:14.546393Z"
    }
   },
   "outputs": [
    {
     "data": {
      "text/plain": [
       "['98% ',\n",
       " '99% ',\n",
       " '96% ',\n",
       " '96% ',\n",
       " '98% ',\n",
       " '93% ',\n",
       " '96% ',\n",
       " '98% ',\n",
       " '99% ',\n",
       " '98% ',\n",
       " '89% ',\n",
       " '96% ',\n",
       " '98% ',\n",
       " '93% ',\n",
       " '99% ',\n",
       " '80% ',\n",
       " '99% ',\n",
       " '97% ',\n",
       " '94% ',\n",
       " '95% ',\n",
       " '96% ',\n",
       " '95% ',\n",
       " '100% ',\n",
       " '86% ',\n",
       " '94% ',\n",
       " '97% ',\n",
       " '97% ',\n",
       " '84% ',\n",
       " '83% ',\n",
       " '98% ',\n",
       " '94% ',\n",
       " '90% ',\n",
       " '90% ',\n",
       " '84% ',\n",
       " '98% ',\n",
       " '93% ',\n",
       " '97% ',\n",
       " '83% ',\n",
       " '96% ',\n",
       " '97% ',\n",
       " '82% ',\n",
       " '96% ',\n",
       " '98% ',\n",
       " '96% ',\n",
       " '92% ',\n",
       " '100% ',\n",
       " '99% ',\n",
       " '75% ',\n",
       " '94% ',\n",
       " '92% ',\n",
       " '97% ',\n",
       " '95% ',\n",
       " '97% ',\n",
       " '95% ',\n",
       " '97% ',\n",
       " '97% ',\n",
       " '96% ',\n",
       " '98% ',\n",
       " '97% ',\n",
       " '98% ',\n",
       " '97% ',\n",
       " '88% ',\n",
       " '99% ',\n",
       " '98% ',\n",
       " '96% ',\n",
       " '97% ',\n",
       " '100% ',\n",
       " '100% ',\n",
       " '95% ',\n",
       " nan]"
      ]
     },
     "execution_count": 78,
     "metadata": {},
     "output_type": "execute_result"
    }
   ],
   "source": [
    "Recomendation\n"
   ]
  },
  {
   "cell_type": "code",
   "execution_count": null,
   "id": "67e39311",
   "metadata": {},
   "outputs": [],
   "source": []
  },
  {
   "cell_type": "code",
   "execution_count": 21,
   "id": "91263ce2",
   "metadata": {
    "ExecuteTime": {
     "end_time": "2022-12-12T20:01:00.667093Z",
     "start_time": "2022-12-12T20:01:00.643092Z"
    }
   },
   "outputs": [
    {
     "name": "stdout",
     "output_type": "stream",
     "text": [
      "['Tooth Galaxy Dental Care and Implant Centre', '\\xa0+ 2 more', 'Tooth Galaxy Dental Care and Implant Centre', '\\xa0+ 2 more', 'Oswals Dental and Orthodontic Care', '\\xa0+ 1 more', 'Health Point Polyclinic', '\\xa0+ 4 more', 'Om Dental Clinc', \"Dr Shetty's Dental Speciality Centre\", '\\xa0+ 3 more', 'Dr.R.R.Prasad Dental Clinic', \"Dr. Ratnika's - Smile Up Dental Clinic & Implant Center\", 'Dental Care & Endodontic Center', \"Dr. Bhirud's Sweet Smile Dental Clinic\", '\\xa0+ 1 more', 'Practo Care Surgeries', '\\xa0+ 1 more', 'Galaxy Hospital', 'Shree Maternity Nursing Home', '\\xa0+ 2 more', 'Wombs Fertility and Reproductive Health Clinic', 'Shri Waman Ganesh Clinic', 'Life Care Clinic', \"Dr. Sunita Umberkar's Women's Clinic\", '\\xa0+ 1 more', 'Umang Hospital', \"Vatsalya Women's World\", '\\xa0+ 2 more', 'Mohita Poly Clinic', \"Dr. Upadhyay's Clinic\", 'Kulkarni Clinic', 'Apollo Clinic', 'Apollo Clinic', 'Prudent International Health Clinic', '\\xa0+ 1 more', \"Dr Midha's National Clinic\", \"Dr. Gandhi's- Dr. Mutalik's Clinic\", 'Dev Clinic', '\\xa0+ 1 more', 'NRS Hospital', 'Harsh Hospital', '\\xa0+ 2 more', 'Aura Skin And Laser Clinic', 'Kimaya Skin Clinic', 'Dr. Sonnal Chavaan Aesthetic Clinic', '\\xa0+ 1 more', \"Dr Tannu's Komal Skin Clinic\", '\\xa0+ 1 more', \"Dr. Dudhbhate's Skin Clinic\", 'Radiance Skin,Hair, Laser & Wellness Center', 'Radiant Skin and Hair Clinic', 'Pallavi Laser Centre', '\\xa0+ 2 more', 'Practo Care Surgeries', '\\xa0+ 6 more', 'SkinEthics Skin Clinic & Dermatosurgery Center', 'Prudent International Health Clinic', '\\xa0+ 2 more', 'Kothadiya Ent Clinic', 'Healing Touch Clinic', 'Lunavat Clinic', '\\xa0+ 1 more', 'Auricle ENT Care Clinic', 'Citicare Hospital', \"Dr. Khedikar's ENT and Head Neck Surgery Clinic\", '\\xa0+ 2 more', 'Apollo Clinic', 'Sanjivani Vitalife Hospital', '\\xa0+ 1 more', 'Siddhivinayak Advanced ENT Care', '\\xa0+ 4 more', 'Homeo Care Clinic', 'Platinum Family Clinic', 'Rohan Clinic', \"Dr. Tathed's Homeopathy\", 'HomeoCure™ Homeopathy Clinic', '\\xa0+ 3 more', 'Dyandeep Acupuncture and Homeopathic Clinic', '\\xa0+ 1 more', 'Panacea Homoeopathic Speciality Center', 'HomeoCure™ Homeopathy Clinic', '\\xa0+ 2 more', 'Dr.Devisetty Healing Touch', '\\xa0+ 1 more', 'Sparsh Homoeopathic Clinic and Polyclinic', \"Dr Erande's Vedsuman Men & Women's clinic\", '\\xa0+ 2 more', \"Dr. Shruty Dumbre's Shatayu Ayurveda And Panchakar\", 'Ayush  Ayurved', 'Aatreya Ayurvedic Panchakarma  & Infertility Clinic', '\\xa0+ 1 more', 'Dharmadhikari Ayurveda Clinic & Research', '\\xa0+ 2 more', 'Dharmadhikari Ayurveda Clinic & Research', '\\xa0+ 2 more', 'Kalpataru Ayurvediya Chikitsalaya', '\\xa0+ 3 more', 'Sushrut Piles Clinic', '\\xa0+ 2 more', 'Aarogyavedh Ayurved & Panchakarma Clinic', '\\xa0+ 1 more', \"Dr. Phalle's Ayusanjivani Speciality Clinic And Panchakarma Centre\", '\\xa0+ 2 more']\n"
     ]
    }
   ],
   "source": [
    "print(Hospital_name)\n"
   ]
  },
  {
   "cell_type": "code",
   "execution_count": 60,
   "id": "93cdc8a0",
   "metadata": {
    "ExecuteTime": {
     "end_time": "2022-12-12T20:03:05.677239Z",
     "start_time": "2022-12-12T20:03:05.669240Z"
    }
   },
   "outputs": [],
   "source": [
    "#Hospital_name.remove(\"\\xa0+ 3 more\")\n"
   ]
  },
  {
   "cell_type": "code",
   "execution_count": 84,
   "id": "8c2ab45d",
   "metadata": {
    "ExecuteTime": {
     "end_time": "2022-12-13T18:42:43.405794Z",
     "start_time": "2022-12-13T18:42:43.313125Z"
    }
   },
   "outputs": [],
   "source": [
    "dictionary={\"Doctor_name\":Doctors_name, \n",
    "            \"Specialization\":Speciality,\n",
    "            \"Experience\": Experience,\n",
    "            \"City_name\":City,\n",
    "            \"Area\":location,\n",
    "            \"Hospital_name\":Hospital_name,\n",
    "            \"Consultation_fee\":consultation_fee,\n",
    "            \"Recommendation\":Recomendation\n",
    "           }\n"
   ]
  },
  {
   "cell_type": "code",
   "execution_count": 85,
   "id": "52776372",
   "metadata": {
    "ExecuteTime": {
     "end_time": "2022-12-13T18:42:53.055960Z",
     "start_time": "2022-12-13T18:42:51.257863Z"
    }
   },
   "outputs": [
    {
     "data": {
      "text/html": [
       "<div>\n",
       "<style scoped>\n",
       "    .dataframe tbody tr th:only-of-type {\n",
       "        vertical-align: middle;\n",
       "    }\n",
       "\n",
       "    .dataframe tbody tr th {\n",
       "        vertical-align: top;\n",
       "    }\n",
       "\n",
       "    .dataframe thead th {\n",
       "        text-align: right;\n",
       "    }\n",
       "</style>\n",
       "<table border=\"1\" class=\"dataframe\">\n",
       "  <thead>\n",
       "    <tr style=\"text-align: right;\">\n",
       "      <th></th>\n",
       "      <th>Doctor_name</th>\n",
       "      <th>Specialization</th>\n",
       "      <th>Experience</th>\n",
       "      <th>City_name</th>\n",
       "      <th>Area</th>\n",
       "      <th>Hospital_name</th>\n",
       "      <th>Consultation_fee</th>\n",
       "      <th>Recommendation</th>\n",
       "    </tr>\n",
       "  </thead>\n",
       "  <tbody>\n",
       "    <tr>\n",
       "      <th>0</th>\n",
       "      <td>Dr. Sarvesh R Jaiswal</td>\n",
       "      <td>Dentist</td>\n",
       "      <td>14</td>\n",
       "      <td>Pune</td>\n",
       "      <td>Baner,</td>\n",
       "      <td>Tooth Galaxy Dental Care and Implant Centre</td>\n",
       "      <td>300</td>\n",
       "      <td>98%</td>\n",
       "    </tr>\n",
       "    <tr>\n",
       "      <th>1</th>\n",
       "      <td>Dr. Anushree S. Jaiswal</td>\n",
       "      <td>Dentist</td>\n",
       "      <td>11</td>\n",
       "      <td>Pune</td>\n",
       "      <td>Baner,</td>\n",
       "      <td>Tooth Galaxy Dental Care and Implant Centre</td>\n",
       "      <td>300</td>\n",
       "      <td>99%</td>\n",
       "    </tr>\n",
       "    <tr>\n",
       "      <th>2</th>\n",
       "      <td>Dr. Dhaval Oswal</td>\n",
       "      <td>Dentist</td>\n",
       "      <td>14</td>\n",
       "      <td>Pune</td>\n",
       "      <td>Bibvewadi,</td>\n",
       "      <td>Oswals Dental and Orthodontic Care</td>\n",
       "      <td>100</td>\n",
       "      <td>96%</td>\n",
       "    </tr>\n",
       "    <tr>\n",
       "      <th>3</th>\n",
       "      <td>Dr. Mrunal Godse</td>\n",
       "      <td>Dentist</td>\n",
       "      <td>14</td>\n",
       "      <td>Pune</td>\n",
       "      <td>Kothrud,</td>\n",
       "      <td>Health Point Polyclinic</td>\n",
       "      <td>300</td>\n",
       "      <td>96%</td>\n",
       "    </tr>\n",
       "    <tr>\n",
       "      <th>4</th>\n",
       "      <td>Dr. Ashwini Dalavi</td>\n",
       "      <td>Dentist</td>\n",
       "      <td>18</td>\n",
       "      <td>Pune</td>\n",
       "      <td>Sasanenagar,</td>\n",
       "      <td>Om Dental Clinc</td>\n",
       "      <td>300</td>\n",
       "      <td>98%</td>\n",
       "    </tr>\n",
       "    <tr>\n",
       "      <th>...</th>\n",
       "      <td>...</td>\n",
       "      <td>...</td>\n",
       "      <td>...</td>\n",
       "      <td>...</td>\n",
       "      <td>...</td>\n",
       "      <td>...</td>\n",
       "      <td>...</td>\n",
       "      <td>...</td>\n",
       "    </tr>\n",
       "    <tr>\n",
       "      <th>65</th>\n",
       "      <td>Dr. Swapnil Dharmadhikari</td>\n",
       "      <td>Ayurveda</td>\n",
       "      <td>13</td>\n",
       "      <td>Pune</td>\n",
       "      <td>Kothrud,</td>\n",
       "      <td>Dharmadhikari Ayurveda Clinic &amp; Research</td>\n",
       "      <td>500</td>\n",
       "      <td>97%</td>\n",
       "    </tr>\n",
       "    <tr>\n",
       "      <th>66</th>\n",
       "      <td>Dr. Manoj Madhukar Deshpande</td>\n",
       "      <td>Ayurveda</td>\n",
       "      <td>26</td>\n",
       "      <td>Pune</td>\n",
       "      <td>Shivajinagar,</td>\n",
       "      <td>Kalpataru Ayurvediya Chikitsalaya</td>\n",
       "      <td>500</td>\n",
       "      <td>100%</td>\n",
       "    </tr>\n",
       "    <tr>\n",
       "      <th>67</th>\n",
       "      <td>Dr. P Madhu Rao</td>\n",
       "      <td>Ayurveda</td>\n",
       "      <td>14</td>\n",
       "      <td>Pune</td>\n",
       "      <td>Pimpri-Chinchwad,</td>\n",
       "      <td>Sushrut Piles Clinic</td>\n",
       "      <td>500</td>\n",
       "      <td>100%</td>\n",
       "    </tr>\n",
       "    <tr>\n",
       "      <th>68</th>\n",
       "      <td>Dr. Yogesh Kutte</td>\n",
       "      <td>Ayurveda</td>\n",
       "      <td>13</td>\n",
       "      <td>Pune</td>\n",
       "      <td>Pimple Saudagar,</td>\n",
       "      <td>Aarogyavedh Ayurved &amp; Panchakarma Clinic</td>\n",
       "      <td>500</td>\n",
       "      <td>95%</td>\n",
       "    </tr>\n",
       "    <tr>\n",
       "      <th>69</th>\n",
       "      <td>Dr. Shailesh Phalle</td>\n",
       "      <td>Ayurveda</td>\n",
       "      <td>11</td>\n",
       "      <td>Pune</td>\n",
       "      <td>Kharadi,</td>\n",
       "      <td>Dr. Phalle's Ayusanjivani Speciality Clinic An...</td>\n",
       "      <td>350</td>\n",
       "      <td>NaN</td>\n",
       "    </tr>\n",
       "  </tbody>\n",
       "</table>\n",
       "<p>70 rows × 8 columns</p>\n",
       "</div>"
      ],
      "text/plain": [
       "                     Doctor_name Specialization Experience City_name  \\\n",
       "0          Dr. Sarvesh R Jaiswal        Dentist         14      Pune   \n",
       "1        Dr. Anushree S. Jaiswal        Dentist         11      Pune   \n",
       "2               Dr. Dhaval Oswal        Dentist         14      Pune   \n",
       "3               Dr. Mrunal Godse        Dentist         14      Pune   \n",
       "4             Dr. Ashwini Dalavi        Dentist         18      Pune   \n",
       "..                           ...            ...        ...       ...   \n",
       "65     Dr. Swapnil Dharmadhikari       Ayurveda         13      Pune   \n",
       "66  Dr. Manoj Madhukar Deshpande       Ayurveda         26      Pune   \n",
       "67               Dr. P Madhu Rao       Ayurveda         14      Pune   \n",
       "68              Dr. Yogesh Kutte       Ayurveda         13      Pune   \n",
       "69           Dr. Shailesh Phalle       Ayurveda         11      Pune   \n",
       "\n",
       "                 Area                                      Hospital_name  \\\n",
       "0              Baner,        Tooth Galaxy Dental Care and Implant Centre   \n",
       "1              Baner,        Tooth Galaxy Dental Care and Implant Centre   \n",
       "2          Bibvewadi,                 Oswals Dental and Orthodontic Care   \n",
       "3            Kothrud,                            Health Point Polyclinic   \n",
       "4        Sasanenagar,                                    Om Dental Clinc   \n",
       "..                ...                                                ...   \n",
       "65           Kothrud,           Dharmadhikari Ayurveda Clinic & Research   \n",
       "66      Shivajinagar,                  Kalpataru Ayurvediya Chikitsalaya   \n",
       "67  Pimpri-Chinchwad,                               Sushrut Piles Clinic   \n",
       "68   Pimple Saudagar,           Aarogyavedh Ayurved & Panchakarma Clinic   \n",
       "69           Kharadi,  Dr. Phalle's Ayusanjivani Speciality Clinic An...   \n",
       "\n",
       "   Consultation_fee Recommendation  \n",
       "0               300           98%   \n",
       "1               300           99%   \n",
       "2               100           96%   \n",
       "3               300           96%   \n",
       "4               300           98%   \n",
       "..              ...            ...  \n",
       "65              500           97%   \n",
       "66              500          100%   \n",
       "67              500          100%   \n",
       "68              500           95%   \n",
       "69              350            NaN  \n",
       "\n",
       "[70 rows x 8 columns]"
      ]
     },
     "execution_count": 85,
     "metadata": {},
     "output_type": "execute_result"
    }
   ],
   "source": [
    "df_p=pd.DataFrame(dictionary)\n",
    "df_p\n"
   ]
  },
  {
   "cell_type": "code",
   "execution_count": 86,
   "id": "12129fba",
   "metadata": {
    "ExecuteTime": {
     "end_time": "2022-12-13T18:43:02.182194Z",
     "start_time": "2022-12-13T18:43:01.861780Z"
    }
   },
   "outputs": [],
   "source": [
    "df_p.to_csv(\"medical_data2.csv\")\n"
   ]
  },
  {
   "cell_type": "code",
   "execution_count": 101,
   "id": "e8924dcb",
   "metadata": {
    "ExecuteTime": {
     "end_time": "2022-12-13T19:18:21.014270Z",
     "start_time": "2022-12-13T19:18:20.730704Z"
    }
   },
   "outputs": [
    {
     "name": "stderr",
     "output_type": "stream",
     "text": [
      "C:\\Users\\Venkatesh\\AppData\\Local\\Temp\\ipykernel_7584\\3974819155.py:5: FutureWarning: The frame.append method is deprecated and will be removed from pandas in a future version. Use pandas.concat instead.\n",
      "  med_df= med_df.append(pd.read_csv(file))\n",
      "C:\\Users\\Venkatesh\\AppData\\Local\\Temp\\ipykernel_7584\\3974819155.py:5: FutureWarning: The frame.append method is deprecated and will be removed from pandas in a future version. Use pandas.concat instead.\n",
      "  med_df= med_df.append(pd.read_csv(file))\n",
      "C:\\Users\\Venkatesh\\AppData\\Local\\Temp\\ipykernel_7584\\3974819155.py:5: FutureWarning: The frame.append method is deprecated and will be removed from pandas in a future version. Use pandas.concat instead.\n",
      "  med_df= med_df.append(pd.read_csv(file))\n"
     ]
    }
   ],
   "source": [
    "import os\n",
    "med_df=pd.DataFrame()\n",
    "for file in os.listdir(os.getcwd()):\n",
    "    if file.endswith('csv'):\n",
    "        med_df= med_df.append(pd.read_csv(file))\n",
    "med_df.to_csv('medical_dataset.csv', index=False)"
   ]
  },
  {
   "cell_type": "code",
   "execution_count": 102,
   "id": "456e0ed6",
   "metadata": {
    "ExecuteTime": {
     "end_time": "2022-12-13T19:18:31.783949Z",
     "start_time": "2022-12-13T19:18:31.554577Z"
    }
   },
   "outputs": [
    {
     "data": {
      "text/html": [
       "<div>\n",
       "<style scoped>\n",
       "    .dataframe tbody tr th:only-of-type {\n",
       "        vertical-align: middle;\n",
       "    }\n",
       "\n",
       "    .dataframe tbody tr th {\n",
       "        vertical-align: top;\n",
       "    }\n",
       "\n",
       "    .dataframe thead th {\n",
       "        text-align: right;\n",
       "    }\n",
       "</style>\n",
       "<table border=\"1\" class=\"dataframe\">\n",
       "  <thead>\n",
       "    <tr style=\"text-align: right;\">\n",
       "      <th></th>\n",
       "      <th>Dr. P.Uma Devi</th>\n",
       "      <th>Dentist</th>\n",
       "      <th>17</th>\n",
       "      <th>Chennai</th>\n",
       "      <th>Valasaravakkam,</th>\n",
       "      <th>Uma's Dental Care</th>\n",
       "      <th>200</th>\n",
       "      <th>99%</th>\n",
       "      <th>Unnamed: 0</th>\n",
       "      <th>Doctor_name</th>\n",
       "      <th>Specialization</th>\n",
       "      <th>Experience</th>\n",
       "      <th>City_name</th>\n",
       "      <th>Area</th>\n",
       "      <th>Hospital_name</th>\n",
       "      <th>Consultation_fee</th>\n",
       "      <th>Recommendation</th>\n",
       "    </tr>\n",
       "  </thead>\n",
       "  <tbody>\n",
       "    <tr>\n",
       "      <th>0</th>\n",
       "      <td>Dr. T. Sivasankari</td>\n",
       "      <td>Dentist</td>\n",
       "      <td>19.0</td>\n",
       "      <td>Chennai</td>\n",
       "      <td>Mogappair,</td>\n",
       "      <td>Harsini Dental Clinic</td>\n",
       "      <td>200.0</td>\n",
       "      <td>93%</td>\n",
       "      <td>NaN</td>\n",
       "      <td>NaN</td>\n",
       "      <td>NaN</td>\n",
       "      <td>NaN</td>\n",
       "      <td>NaN</td>\n",
       "      <td>NaN</td>\n",
       "      <td>NaN</td>\n",
       "      <td>NaN</td>\n",
       "      <td>NaN</td>\n",
       "    </tr>\n",
       "    <tr>\n",
       "      <th>1</th>\n",
       "      <td>Dr. Sudhakar</td>\n",
       "      <td>Dentist</td>\n",
       "      <td>23.0</td>\n",
       "      <td>Chennai</td>\n",
       "      <td>Royapettah,</td>\n",
       "      <td>Gift Smile Dental Clinic</td>\n",
       "      <td>500.0</td>\n",
       "      <td>97%</td>\n",
       "      <td>NaN</td>\n",
       "      <td>NaN</td>\n",
       "      <td>NaN</td>\n",
       "      <td>NaN</td>\n",
       "      <td>NaN</td>\n",
       "      <td>NaN</td>\n",
       "      <td>NaN</td>\n",
       "      <td>NaN</td>\n",
       "      <td>NaN</td>\n",
       "    </tr>\n",
       "    <tr>\n",
       "      <th>2</th>\n",
       "      <td>Dr. Abhilash Bhaskaran</td>\n",
       "      <td>Dentist</td>\n",
       "      <td>25.0</td>\n",
       "      <td>Chennai</td>\n",
       "      <td>Perumbakkam,</td>\n",
       "      <td>Gleneagles Global Health City</td>\n",
       "      <td>700.0</td>\n",
       "      <td>99%</td>\n",
       "      <td>NaN</td>\n",
       "      <td>NaN</td>\n",
       "      <td>NaN</td>\n",
       "      <td>NaN</td>\n",
       "      <td>NaN</td>\n",
       "      <td>NaN</td>\n",
       "      <td>NaN</td>\n",
       "      <td>NaN</td>\n",
       "      <td>NaN</td>\n",
       "    </tr>\n",
       "    <tr>\n",
       "      <th>3</th>\n",
       "      <td>Dr. Mathan Mohan</td>\n",
       "      <td>Dentist</td>\n",
       "      <td>23.0</td>\n",
       "      <td>Chennai</td>\n",
       "      <td>Vanagaram,</td>\n",
       "      <td>Apollo Speciality Hospital</td>\n",
       "      <td>800.0</td>\n",
       "      <td>100%</td>\n",
       "      <td>NaN</td>\n",
       "      <td>NaN</td>\n",
       "      <td>NaN</td>\n",
       "      <td>NaN</td>\n",
       "      <td>NaN</td>\n",
       "      <td>NaN</td>\n",
       "      <td>NaN</td>\n",
       "      <td>NaN</td>\n",
       "      <td>NaN</td>\n",
       "    </tr>\n",
       "    <tr>\n",
       "      <th>4</th>\n",
       "      <td>Dr. E. Sarath Chandar</td>\n",
       "      <td>Dentist</td>\n",
       "      <td>27.0</td>\n",
       "      <td>Chennai</td>\n",
       "      <td>Thiruvanmiyur,</td>\n",
       "      <td>Sarath Dental Clinic</td>\n",
       "      <td>400.0</td>\n",
       "      <td>99%</td>\n",
       "      <td>NaN</td>\n",
       "      <td>NaN</td>\n",
       "      <td>NaN</td>\n",
       "      <td>NaN</td>\n",
       "      <td>NaN</td>\n",
       "      <td>NaN</td>\n",
       "      <td>NaN</td>\n",
       "      <td>NaN</td>\n",
       "      <td>NaN</td>\n",
       "    </tr>\n",
       "    <tr>\n",
       "      <th>...</th>\n",
       "      <td>...</td>\n",
       "      <td>...</td>\n",
       "      <td>...</td>\n",
       "      <td>...</td>\n",
       "      <td>...</td>\n",
       "      <td>...</td>\n",
       "      <td>...</td>\n",
       "      <td>...</td>\n",
       "      <td>...</td>\n",
       "      <td>...</td>\n",
       "      <td>...</td>\n",
       "      <td>...</td>\n",
       "      <td>...</td>\n",
       "      <td>...</td>\n",
       "      <td>...</td>\n",
       "      <td>...</td>\n",
       "      <td>...</td>\n",
       "    </tr>\n",
       "    <tr>\n",
       "      <th>65</th>\n",
       "      <td>NaN</td>\n",
       "      <td>NaN</td>\n",
       "      <td>NaN</td>\n",
       "      <td>NaN</td>\n",
       "      <td>NaN</td>\n",
       "      <td>NaN</td>\n",
       "      <td>NaN</td>\n",
       "      <td>NaN</td>\n",
       "      <td>65.0</td>\n",
       "      <td>Dr. Swapnil Dharmadhikari</td>\n",
       "      <td>Ayurveda</td>\n",
       "      <td>13.0</td>\n",
       "      <td>Pune</td>\n",
       "      <td>Kothrud,</td>\n",
       "      <td>Dharmadhikari Ayurveda Clinic &amp; Research</td>\n",
       "      <td>500.0</td>\n",
       "      <td>97%</td>\n",
       "    </tr>\n",
       "    <tr>\n",
       "      <th>66</th>\n",
       "      <td>NaN</td>\n",
       "      <td>NaN</td>\n",
       "      <td>NaN</td>\n",
       "      <td>NaN</td>\n",
       "      <td>NaN</td>\n",
       "      <td>NaN</td>\n",
       "      <td>NaN</td>\n",
       "      <td>NaN</td>\n",
       "      <td>66.0</td>\n",
       "      <td>Dr. Manoj Madhukar Deshpande</td>\n",
       "      <td>Ayurveda</td>\n",
       "      <td>26.0</td>\n",
       "      <td>Pune</td>\n",
       "      <td>Shivajinagar,</td>\n",
       "      <td>Kalpataru Ayurvediya Chikitsalaya</td>\n",
       "      <td>500.0</td>\n",
       "      <td>100%</td>\n",
       "    </tr>\n",
       "    <tr>\n",
       "      <th>67</th>\n",
       "      <td>NaN</td>\n",
       "      <td>NaN</td>\n",
       "      <td>NaN</td>\n",
       "      <td>NaN</td>\n",
       "      <td>NaN</td>\n",
       "      <td>NaN</td>\n",
       "      <td>NaN</td>\n",
       "      <td>NaN</td>\n",
       "      <td>67.0</td>\n",
       "      <td>Dr. P Madhu Rao</td>\n",
       "      <td>Ayurveda</td>\n",
       "      <td>14.0</td>\n",
       "      <td>Pune</td>\n",
       "      <td>Pimpri-Chinchwad,</td>\n",
       "      <td>Sushrut Piles Clinic</td>\n",
       "      <td>500.0</td>\n",
       "      <td>100%</td>\n",
       "    </tr>\n",
       "    <tr>\n",
       "      <th>68</th>\n",
       "      <td>NaN</td>\n",
       "      <td>NaN</td>\n",
       "      <td>NaN</td>\n",
       "      <td>NaN</td>\n",
       "      <td>NaN</td>\n",
       "      <td>NaN</td>\n",
       "      <td>NaN</td>\n",
       "      <td>NaN</td>\n",
       "      <td>68.0</td>\n",
       "      <td>Dr. Yogesh Kutte</td>\n",
       "      <td>Ayurveda</td>\n",
       "      <td>13.0</td>\n",
       "      <td>Pune</td>\n",
       "      <td>Pimple Saudagar,</td>\n",
       "      <td>Aarogyavedh Ayurved &amp; Panchakarma Clinic</td>\n",
       "      <td>500.0</td>\n",
       "      <td>95%</td>\n",
       "    </tr>\n",
       "    <tr>\n",
       "      <th>69</th>\n",
       "      <td>NaN</td>\n",
       "      <td>NaN</td>\n",
       "      <td>NaN</td>\n",
       "      <td>NaN</td>\n",
       "      <td>NaN</td>\n",
       "      <td>NaN</td>\n",
       "      <td>NaN</td>\n",
       "      <td>NaN</td>\n",
       "      <td>69.0</td>\n",
       "      <td>Dr. Shailesh Phalle</td>\n",
       "      <td>Ayurveda</td>\n",
       "      <td>11.0</td>\n",
       "      <td>Pune</td>\n",
       "      <td>Kharadi,</td>\n",
       "      <td>Dr. Phalle's Ayusanjivani Speciality Clinic An...</td>\n",
       "      <td>350.0</td>\n",
       "      <td>NaN</td>\n",
       "    </tr>\n",
       "  </tbody>\n",
       "</table>\n",
       "<p>209 rows × 17 columns</p>\n",
       "</div>"
      ],
      "text/plain": [
       "            Dr. P.Uma Devi  Dentist    17  Chennai Valasaravakkam,  \\\n",
       "0       Dr. T. Sivasankari  Dentist  19.0  Chennai      Mogappair,   \n",
       "1             Dr. Sudhakar  Dentist  23.0  Chennai     Royapettah,   \n",
       "2   Dr. Abhilash Bhaskaran  Dentist  25.0  Chennai    Perumbakkam,   \n",
       "3         Dr. Mathan Mohan  Dentist  23.0  Chennai      Vanagaram,   \n",
       "4    Dr. E. Sarath Chandar  Dentist  27.0  Chennai  Thiruvanmiyur,   \n",
       "..                     ...      ...   ...      ...             ...   \n",
       "65                     NaN      NaN   NaN      NaN             NaN   \n",
       "66                     NaN      NaN   NaN      NaN             NaN   \n",
       "67                     NaN      NaN   NaN      NaN             NaN   \n",
       "68                     NaN      NaN   NaN      NaN             NaN   \n",
       "69                     NaN      NaN   NaN      NaN             NaN   \n",
       "\n",
       "                Uma's Dental Care    200   99%   Unnamed: 0  \\\n",
       "0           Harsini Dental Clinic  200.0   93%          NaN   \n",
       "1        Gift Smile Dental Clinic  500.0   97%          NaN   \n",
       "2   Gleneagles Global Health City  700.0   99%          NaN   \n",
       "3      Apollo Speciality Hospital  800.0  100%          NaN   \n",
       "4            Sarath Dental Clinic  400.0   99%          NaN   \n",
       "..                            ...    ...    ...         ...   \n",
       "65                            NaN    NaN    NaN        65.0   \n",
       "66                            NaN    NaN    NaN        66.0   \n",
       "67                            NaN    NaN    NaN        67.0   \n",
       "68                            NaN    NaN    NaN        68.0   \n",
       "69                            NaN    NaN    NaN        69.0   \n",
       "\n",
       "                     Doctor_name Specialization  Experience City_name  \\\n",
       "0                            NaN            NaN         NaN       NaN   \n",
       "1                            NaN            NaN         NaN       NaN   \n",
       "2                            NaN            NaN         NaN       NaN   \n",
       "3                            NaN            NaN         NaN       NaN   \n",
       "4                            NaN            NaN         NaN       NaN   \n",
       "..                           ...            ...         ...       ...   \n",
       "65     Dr. Swapnil Dharmadhikari       Ayurveda        13.0      Pune   \n",
       "66  Dr. Manoj Madhukar Deshpande       Ayurveda        26.0      Pune   \n",
       "67               Dr. P Madhu Rao       Ayurveda        14.0      Pune   \n",
       "68              Dr. Yogesh Kutte       Ayurveda        13.0      Pune   \n",
       "69           Dr. Shailesh Phalle       Ayurveda        11.0      Pune   \n",
       "\n",
       "                 Area                                      Hospital_name  \\\n",
       "0                 NaN                                                NaN   \n",
       "1                 NaN                                                NaN   \n",
       "2                 NaN                                                NaN   \n",
       "3                 NaN                                                NaN   \n",
       "4                 NaN                                                NaN   \n",
       "..                ...                                                ...   \n",
       "65           Kothrud,           Dharmadhikari Ayurveda Clinic & Research   \n",
       "66      Shivajinagar,                  Kalpataru Ayurvediya Chikitsalaya   \n",
       "67  Pimpri-Chinchwad,                               Sushrut Piles Clinic   \n",
       "68   Pimple Saudagar,           Aarogyavedh Ayurved & Panchakarma Clinic   \n",
       "69           Kharadi,  Dr. Phalle's Ayusanjivani Speciality Clinic An...   \n",
       "\n",
       "    Consultation_fee Recommendation  \n",
       "0                NaN            NaN  \n",
       "1                NaN            NaN  \n",
       "2                NaN            NaN  \n",
       "3                NaN            NaN  \n",
       "4                NaN            NaN  \n",
       "..               ...            ...  \n",
       "65             500.0           97%   \n",
       "66             500.0          100%   \n",
       "67             500.0          100%   \n",
       "68             500.0           95%   \n",
       "69             350.0            NaN  \n",
       "\n",
       "[209 rows x 17 columns]"
      ]
     },
     "execution_count": 102,
     "metadata": {},
     "output_type": "execute_result"
    }
   ],
   "source": [
    "med_df"
   ]
  },
  {
   "cell_type": "code",
   "execution_count": 95,
   "id": "9e759f3e",
   "metadata": {
    "ExecuteTime": {
     "end_time": "2022-12-13T19:10:42.186465Z",
     "start_time": "2022-12-13T19:10:42.170441Z"
    }
   },
   "outputs": [],
   "source": [
    "file_list=[path + f for f in os.listdir(path) if f.startswith('sales_records_n')]"
   ]
  },
  {
   "cell_type": "code",
   "execution_count": 96,
   "id": "2c5734ba",
   "metadata": {
    "ExecuteTime": {
     "end_time": "2022-12-13T19:10:44.556214Z",
     "start_time": "2022-12-13T19:10:44.540215Z"
    }
   },
   "outputs": [],
   "source": [
    "csv_list=[]"
   ]
  },
  {
   "cell_type": "code",
   "execution_count": 97,
   "id": "220f9be7",
   "metadata": {
    "ExecuteTime": {
     "end_time": "2022-12-13T19:10:47.117127Z",
     "start_time": "2022-12-13T19:10:47.053113Z"
    }
   },
   "outputs": [],
   "source": [
    "for file in sorted(file_list):\n",
    "    csv_list.append(pd.read_csv(file).assign(file_name=os.path.basename(file)))"
   ]
  },
  {
   "cell_type": "code",
   "execution_count": 98,
   "id": "037a27ba",
   "metadata": {
    "ExecuteTime": {
     "end_time": "2022-12-13T19:10:50.441181Z",
     "start_time": "2022-12-13T19:10:50.417183Z"
    }
   },
   "outputs": [
    {
     "ename": "ValueError",
     "evalue": "No objects to concatenate",
     "output_type": "error",
     "traceback": [
      "\u001b[1;31m---------------------------------------------------------------------------\u001b[0m",
      "\u001b[1;31mValueError\u001b[0m                                Traceback (most recent call last)",
      "\u001b[1;32m~\\AppData\\Local\\Temp\\ipykernel_7584\\4073412024.py\u001b[0m in \u001b[0;36m<module>\u001b[1;34m\u001b[0m\n\u001b[1;32m----> 1\u001b[1;33m \u001b[0mcsv_merged\u001b[0m\u001b[1;33m=\u001b[0m\u001b[0mpd\u001b[0m\u001b[1;33m.\u001b[0m\u001b[0mconcat\u001b[0m\u001b[1;33m(\u001b[0m\u001b[0mcsv_list\u001b[0m\u001b[1;33m,\u001b[0m \u001b[0mignore_index\u001b[0m\u001b[1;33m=\u001b[0m\u001b[1;32mTrue\u001b[0m\u001b[1;33m)\u001b[0m\u001b[1;33m\u001b[0m\u001b[1;33m\u001b[0m\u001b[0m\n\u001b[0m",
      "\u001b[1;32m~\\AppData\\Roaming\\Python\\Python39\\site-packages\\pandas\\util\\_decorators.py\u001b[0m in \u001b[0;36mwrapper\u001b[1;34m(*args, **kwargs)\u001b[0m\n\u001b[0;32m    329\u001b[0m                     \u001b[0mstacklevel\u001b[0m\u001b[1;33m=\u001b[0m\u001b[0mfind_stack_level\u001b[0m\u001b[1;33m(\u001b[0m\u001b[1;33m)\u001b[0m\u001b[1;33m,\u001b[0m\u001b[1;33m\u001b[0m\u001b[1;33m\u001b[0m\u001b[0m\n\u001b[0;32m    330\u001b[0m                 )\n\u001b[1;32m--> 331\u001b[1;33m             \u001b[1;32mreturn\u001b[0m \u001b[0mfunc\u001b[0m\u001b[1;33m(\u001b[0m\u001b[1;33m*\u001b[0m\u001b[0margs\u001b[0m\u001b[1;33m,\u001b[0m \u001b[1;33m**\u001b[0m\u001b[0mkwargs\u001b[0m\u001b[1;33m)\u001b[0m\u001b[1;33m\u001b[0m\u001b[1;33m\u001b[0m\u001b[0m\n\u001b[0m\u001b[0;32m    332\u001b[0m \u001b[1;33m\u001b[0m\u001b[0m\n\u001b[0;32m    333\u001b[0m         \u001b[1;31m# error: \"Callable[[VarArg(Any), KwArg(Any)], Any]\" has no\u001b[0m\u001b[1;33m\u001b[0m\u001b[1;33m\u001b[0m\u001b[0m\n",
      "\u001b[1;32m~\\AppData\\Roaming\\Python\\Python39\\site-packages\\pandas\\core\\reshape\\concat.py\u001b[0m in \u001b[0;36mconcat\u001b[1;34m(objs, axis, join, ignore_index, keys, levels, names, verify_integrity, sort, copy)\u001b[0m\n\u001b[0;32m    366\u001b[0m     \u001b[1;36m1\u001b[0m   \u001b[1;36m3\u001b[0m   \u001b[1;36m4\u001b[0m\u001b[1;33m\u001b[0m\u001b[1;33m\u001b[0m\u001b[0m\n\u001b[0;32m    367\u001b[0m     \"\"\"\n\u001b[1;32m--> 368\u001b[1;33m     op = _Concatenator(\n\u001b[0m\u001b[0;32m    369\u001b[0m         \u001b[0mobjs\u001b[0m\u001b[1;33m,\u001b[0m\u001b[1;33m\u001b[0m\u001b[1;33m\u001b[0m\u001b[0m\n\u001b[0;32m    370\u001b[0m         \u001b[0maxis\u001b[0m\u001b[1;33m=\u001b[0m\u001b[0maxis\u001b[0m\u001b[1;33m,\u001b[0m\u001b[1;33m\u001b[0m\u001b[1;33m\u001b[0m\u001b[0m\n",
      "\u001b[1;32m~\\AppData\\Roaming\\Python\\Python39\\site-packages\\pandas\\core\\reshape\\concat.py\u001b[0m in \u001b[0;36m__init__\u001b[1;34m(self, objs, axis, join, keys, levels, names, ignore_index, verify_integrity, copy, sort)\u001b[0m\n\u001b[0;32m    423\u001b[0m \u001b[1;33m\u001b[0m\u001b[0m\n\u001b[0;32m    424\u001b[0m         \u001b[1;32mif\u001b[0m \u001b[0mlen\u001b[0m\u001b[1;33m(\u001b[0m\u001b[0mobjs\u001b[0m\u001b[1;33m)\u001b[0m \u001b[1;33m==\u001b[0m \u001b[1;36m0\u001b[0m\u001b[1;33m:\u001b[0m\u001b[1;33m\u001b[0m\u001b[1;33m\u001b[0m\u001b[0m\n\u001b[1;32m--> 425\u001b[1;33m             \u001b[1;32mraise\u001b[0m \u001b[0mValueError\u001b[0m\u001b[1;33m(\u001b[0m\u001b[1;34m\"No objects to concatenate\"\u001b[0m\u001b[1;33m)\u001b[0m\u001b[1;33m\u001b[0m\u001b[1;33m\u001b[0m\u001b[0m\n\u001b[0m\u001b[0;32m    426\u001b[0m \u001b[1;33m\u001b[0m\u001b[0m\n\u001b[0;32m    427\u001b[0m         \u001b[1;32mif\u001b[0m \u001b[0mkeys\u001b[0m \u001b[1;32mis\u001b[0m \u001b[1;32mNone\u001b[0m\u001b[1;33m:\u001b[0m\u001b[1;33m\u001b[0m\u001b[1;33m\u001b[0m\u001b[0m\n",
      "\u001b[1;31mValueError\u001b[0m: No objects to concatenate"
     ]
    }
   ],
   "source": [
    "csv_merged=pd.concat(csv_list, ignore_index=True)"
   ]
  },
  {
   "cell_type": "code",
   "execution_count": null,
   "id": "f3d40cf0",
   "metadata": {},
   "outputs": [],
   "source": [
    "csv_merged.to_csv(path + 'medical_data.csv', index=False)"
   ]
  },
  {
   "cell_type": "code",
   "execution_count": null,
   "id": "2006239e",
   "metadata": {},
   "outputs": [],
   "source": []
  },
  {
   "cell_type": "code",
   "execution_count": null,
   "id": "31d005c4",
   "metadata": {},
   "outputs": [],
   "source": []
  },
  {
   "cell_type": "code",
   "execution_count": 89,
   "id": "0d959835",
   "metadata": {
    "ExecuteTime": {
     "end_time": "2022-12-13T19:01:38.136984Z",
     "start_time": "2022-12-13T19:01:36.480615Z"
    }
   },
   "outputs": [
    {
     "ename": "FileNotFoundError",
     "evalue": "[Errno 2] No such file or directory: 'C'",
     "output_type": "error",
     "traceback": [
      "\u001b[1;31m---------------------------------------------------------------------------\u001b[0m",
      "\u001b[1;31mFileNotFoundError\u001b[0m                         Traceback (most recent call last)",
      "\u001b[1;32m~\\AppData\\Local\\Temp\\ipykernel_7584\\4061688575.py\u001b[0m in \u001b[0;36m<module>\u001b[1;34m\u001b[0m\n\u001b[1;32m----> 1\u001b[1;33m \u001b[0mmed_df\u001b[0m\u001b[1;33m=\u001b[0m\u001b[0mpd\u001b[0m\u001b[1;33m.\u001b[0m\u001b[0mconcat\u001b[0m\u001b[1;33m(\u001b[0m\u001b[0mmap\u001b[0m\u001b[1;33m(\u001b[0m\u001b[0mpd\u001b[0m\u001b[1;33m.\u001b[0m\u001b[0mread_csv\u001b[0m\u001b[1;33m,\u001b[0m \u001b[0mfiles\u001b[0m\u001b[1;33m)\u001b[0m\u001b[1;33m,\u001b[0m \u001b[0mignore_index\u001b[0m\u001b[1;33m=\u001b[0m\u001b[1;32mTrue\u001b[0m\u001b[1;33m)\u001b[0m\u001b[1;33m\u001b[0m\u001b[1;33m\u001b[0m\u001b[0m\n\u001b[0m\u001b[0;32m      2\u001b[0m \u001b[0mprint\u001b[0m\u001b[1;33m(\u001b[0m\u001b[0mmed_Df\u001b[0m\u001b[1;33m)\u001b[0m\u001b[1;33m\u001b[0m\u001b[1;33m\u001b[0m\u001b[0m\n",
      "\u001b[1;32m~\\AppData\\Roaming\\Python\\Python39\\site-packages\\pandas\\util\\_decorators.py\u001b[0m in \u001b[0;36mwrapper\u001b[1;34m(*args, **kwargs)\u001b[0m\n\u001b[0;32m    329\u001b[0m                     \u001b[0mstacklevel\u001b[0m\u001b[1;33m=\u001b[0m\u001b[0mfind_stack_level\u001b[0m\u001b[1;33m(\u001b[0m\u001b[1;33m)\u001b[0m\u001b[1;33m,\u001b[0m\u001b[1;33m\u001b[0m\u001b[1;33m\u001b[0m\u001b[0m\n\u001b[0;32m    330\u001b[0m                 )\n\u001b[1;32m--> 331\u001b[1;33m             \u001b[1;32mreturn\u001b[0m \u001b[0mfunc\u001b[0m\u001b[1;33m(\u001b[0m\u001b[1;33m*\u001b[0m\u001b[0margs\u001b[0m\u001b[1;33m,\u001b[0m \u001b[1;33m**\u001b[0m\u001b[0mkwargs\u001b[0m\u001b[1;33m)\u001b[0m\u001b[1;33m\u001b[0m\u001b[1;33m\u001b[0m\u001b[0m\n\u001b[0m\u001b[0;32m    332\u001b[0m \u001b[1;33m\u001b[0m\u001b[0m\n\u001b[0;32m    333\u001b[0m         \u001b[1;31m# error: \"Callable[[VarArg(Any), KwArg(Any)], Any]\" has no\u001b[0m\u001b[1;33m\u001b[0m\u001b[1;33m\u001b[0m\u001b[0m\n",
      "\u001b[1;32m~\\AppData\\Roaming\\Python\\Python39\\site-packages\\pandas\\core\\reshape\\concat.py\u001b[0m in \u001b[0;36mconcat\u001b[1;34m(objs, axis, join, ignore_index, keys, levels, names, verify_integrity, sort, copy)\u001b[0m\n\u001b[0;32m    366\u001b[0m     \u001b[1;36m1\u001b[0m   \u001b[1;36m3\u001b[0m   \u001b[1;36m4\u001b[0m\u001b[1;33m\u001b[0m\u001b[1;33m\u001b[0m\u001b[0m\n\u001b[0;32m    367\u001b[0m     \"\"\"\n\u001b[1;32m--> 368\u001b[1;33m     op = _Concatenator(\n\u001b[0m\u001b[0;32m    369\u001b[0m         \u001b[0mobjs\u001b[0m\u001b[1;33m,\u001b[0m\u001b[1;33m\u001b[0m\u001b[1;33m\u001b[0m\u001b[0m\n\u001b[0;32m    370\u001b[0m         \u001b[0maxis\u001b[0m\u001b[1;33m=\u001b[0m\u001b[0maxis\u001b[0m\u001b[1;33m,\u001b[0m\u001b[1;33m\u001b[0m\u001b[1;33m\u001b[0m\u001b[0m\n",
      "\u001b[1;32m~\\AppData\\Roaming\\Python\\Python39\\site-packages\\pandas\\core\\reshape\\concat.py\u001b[0m in \u001b[0;36m__init__\u001b[1;34m(self, objs, axis, join, keys, levels, names, ignore_index, verify_integrity, copy, sort)\u001b[0m\n\u001b[0;32m    420\u001b[0m             \u001b[0mobjs\u001b[0m \u001b[1;33m=\u001b[0m \u001b[1;33m[\u001b[0m\u001b[0mobjs\u001b[0m\u001b[1;33m[\u001b[0m\u001b[0mk\u001b[0m\u001b[1;33m]\u001b[0m \u001b[1;32mfor\u001b[0m \u001b[0mk\u001b[0m \u001b[1;32min\u001b[0m \u001b[0mkeys\u001b[0m\u001b[1;33m]\u001b[0m\u001b[1;33m\u001b[0m\u001b[1;33m\u001b[0m\u001b[0m\n\u001b[0;32m    421\u001b[0m         \u001b[1;32melse\u001b[0m\u001b[1;33m:\u001b[0m\u001b[1;33m\u001b[0m\u001b[1;33m\u001b[0m\u001b[0m\n\u001b[1;32m--> 422\u001b[1;33m             \u001b[0mobjs\u001b[0m \u001b[1;33m=\u001b[0m \u001b[0mlist\u001b[0m\u001b[1;33m(\u001b[0m\u001b[0mobjs\u001b[0m\u001b[1;33m)\u001b[0m\u001b[1;33m\u001b[0m\u001b[1;33m\u001b[0m\u001b[0m\n\u001b[0m\u001b[0;32m    423\u001b[0m \u001b[1;33m\u001b[0m\u001b[0m\n\u001b[0;32m    424\u001b[0m         \u001b[1;32mif\u001b[0m \u001b[0mlen\u001b[0m\u001b[1;33m(\u001b[0m\u001b[0mobjs\u001b[0m\u001b[1;33m)\u001b[0m \u001b[1;33m==\u001b[0m \u001b[1;36m0\u001b[0m\u001b[1;33m:\u001b[0m\u001b[1;33m\u001b[0m\u001b[1;33m\u001b[0m\u001b[0m\n",
      "\u001b[1;32m~\\AppData\\Roaming\\Python\\Python39\\site-packages\\pandas\\util\\_decorators.py\u001b[0m in \u001b[0;36mwrapper\u001b[1;34m(*args, **kwargs)\u001b[0m\n\u001b[0;32m    209\u001b[0m                 \u001b[1;32melse\u001b[0m\u001b[1;33m:\u001b[0m\u001b[1;33m\u001b[0m\u001b[1;33m\u001b[0m\u001b[0m\n\u001b[0;32m    210\u001b[0m                     \u001b[0mkwargs\u001b[0m\u001b[1;33m[\u001b[0m\u001b[0mnew_arg_name\u001b[0m\u001b[1;33m]\u001b[0m \u001b[1;33m=\u001b[0m \u001b[0mnew_arg_value\u001b[0m\u001b[1;33m\u001b[0m\u001b[1;33m\u001b[0m\u001b[0m\n\u001b[1;32m--> 211\u001b[1;33m             \u001b[1;32mreturn\u001b[0m \u001b[0mfunc\u001b[0m\u001b[1;33m(\u001b[0m\u001b[1;33m*\u001b[0m\u001b[0margs\u001b[0m\u001b[1;33m,\u001b[0m \u001b[1;33m**\u001b[0m\u001b[0mkwargs\u001b[0m\u001b[1;33m)\u001b[0m\u001b[1;33m\u001b[0m\u001b[1;33m\u001b[0m\u001b[0m\n\u001b[0m\u001b[0;32m    212\u001b[0m \u001b[1;33m\u001b[0m\u001b[0m\n\u001b[0;32m    213\u001b[0m         \u001b[1;32mreturn\u001b[0m \u001b[0mcast\u001b[0m\u001b[1;33m(\u001b[0m\u001b[0mF\u001b[0m\u001b[1;33m,\u001b[0m \u001b[0mwrapper\u001b[0m\u001b[1;33m)\u001b[0m\u001b[1;33m\u001b[0m\u001b[1;33m\u001b[0m\u001b[0m\n",
      "\u001b[1;32m~\\AppData\\Roaming\\Python\\Python39\\site-packages\\pandas\\util\\_decorators.py\u001b[0m in \u001b[0;36mwrapper\u001b[1;34m(*args, **kwargs)\u001b[0m\n\u001b[0;32m    329\u001b[0m                     \u001b[0mstacklevel\u001b[0m\u001b[1;33m=\u001b[0m\u001b[0mfind_stack_level\u001b[0m\u001b[1;33m(\u001b[0m\u001b[1;33m)\u001b[0m\u001b[1;33m,\u001b[0m\u001b[1;33m\u001b[0m\u001b[1;33m\u001b[0m\u001b[0m\n\u001b[0;32m    330\u001b[0m                 )\n\u001b[1;32m--> 331\u001b[1;33m             \u001b[1;32mreturn\u001b[0m \u001b[0mfunc\u001b[0m\u001b[1;33m(\u001b[0m\u001b[1;33m*\u001b[0m\u001b[0margs\u001b[0m\u001b[1;33m,\u001b[0m \u001b[1;33m**\u001b[0m\u001b[0mkwargs\u001b[0m\u001b[1;33m)\u001b[0m\u001b[1;33m\u001b[0m\u001b[1;33m\u001b[0m\u001b[0m\n\u001b[0m\u001b[0;32m    332\u001b[0m \u001b[1;33m\u001b[0m\u001b[0m\n\u001b[0;32m    333\u001b[0m         \u001b[1;31m# error: \"Callable[[VarArg(Any), KwArg(Any)], Any]\" has no\u001b[0m\u001b[1;33m\u001b[0m\u001b[1;33m\u001b[0m\u001b[0m\n",
      "\u001b[1;32m~\\AppData\\Roaming\\Python\\Python39\\site-packages\\pandas\\io\\parsers\\readers.py\u001b[0m in \u001b[0;36mread_csv\u001b[1;34m(filepath_or_buffer, sep, delimiter, header, names, index_col, usecols, squeeze, prefix, mangle_dupe_cols, dtype, engine, converters, true_values, false_values, skipinitialspace, skiprows, skipfooter, nrows, na_values, keep_default_na, na_filter, verbose, skip_blank_lines, parse_dates, infer_datetime_format, keep_date_col, date_parser, dayfirst, cache_dates, iterator, chunksize, compression, thousands, decimal, lineterminator, quotechar, quoting, doublequote, escapechar, comment, encoding, encoding_errors, dialect, error_bad_lines, warn_bad_lines, on_bad_lines, delim_whitespace, low_memory, memory_map, float_precision, storage_options)\u001b[0m\n\u001b[0;32m    948\u001b[0m     \u001b[0mkwds\u001b[0m\u001b[1;33m.\u001b[0m\u001b[0mupdate\u001b[0m\u001b[1;33m(\u001b[0m\u001b[0mkwds_defaults\u001b[0m\u001b[1;33m)\u001b[0m\u001b[1;33m\u001b[0m\u001b[1;33m\u001b[0m\u001b[0m\n\u001b[0;32m    949\u001b[0m \u001b[1;33m\u001b[0m\u001b[0m\n\u001b[1;32m--> 950\u001b[1;33m     \u001b[1;32mreturn\u001b[0m \u001b[0m_read\u001b[0m\u001b[1;33m(\u001b[0m\u001b[0mfilepath_or_buffer\u001b[0m\u001b[1;33m,\u001b[0m \u001b[0mkwds\u001b[0m\u001b[1;33m)\u001b[0m\u001b[1;33m\u001b[0m\u001b[1;33m\u001b[0m\u001b[0m\n\u001b[0m\u001b[0;32m    951\u001b[0m \u001b[1;33m\u001b[0m\u001b[0m\n\u001b[0;32m    952\u001b[0m \u001b[1;33m\u001b[0m\u001b[0m\n",
      "\u001b[1;32m~\\AppData\\Roaming\\Python\\Python39\\site-packages\\pandas\\io\\parsers\\readers.py\u001b[0m in \u001b[0;36m_read\u001b[1;34m(filepath_or_buffer, kwds)\u001b[0m\n\u001b[0;32m    603\u001b[0m \u001b[1;33m\u001b[0m\u001b[0m\n\u001b[0;32m    604\u001b[0m     \u001b[1;31m# Create the parser.\u001b[0m\u001b[1;33m\u001b[0m\u001b[1;33m\u001b[0m\u001b[0m\n\u001b[1;32m--> 605\u001b[1;33m     \u001b[0mparser\u001b[0m \u001b[1;33m=\u001b[0m \u001b[0mTextFileReader\u001b[0m\u001b[1;33m(\u001b[0m\u001b[0mfilepath_or_buffer\u001b[0m\u001b[1;33m,\u001b[0m \u001b[1;33m**\u001b[0m\u001b[0mkwds\u001b[0m\u001b[1;33m)\u001b[0m\u001b[1;33m\u001b[0m\u001b[1;33m\u001b[0m\u001b[0m\n\u001b[0m\u001b[0;32m    606\u001b[0m \u001b[1;33m\u001b[0m\u001b[0m\n\u001b[0;32m    607\u001b[0m     \u001b[1;32mif\u001b[0m \u001b[0mchunksize\u001b[0m \u001b[1;32mor\u001b[0m \u001b[0miterator\u001b[0m\u001b[1;33m:\u001b[0m\u001b[1;33m\u001b[0m\u001b[1;33m\u001b[0m\u001b[0m\n",
      "\u001b[1;32m~\\AppData\\Roaming\\Python\\Python39\\site-packages\\pandas\\io\\parsers\\readers.py\u001b[0m in \u001b[0;36m__init__\u001b[1;34m(self, f, engine, **kwds)\u001b[0m\n\u001b[0;32m   1440\u001b[0m \u001b[1;33m\u001b[0m\u001b[0m\n\u001b[0;32m   1441\u001b[0m         \u001b[0mself\u001b[0m\u001b[1;33m.\u001b[0m\u001b[0mhandles\u001b[0m\u001b[1;33m:\u001b[0m \u001b[0mIOHandles\u001b[0m \u001b[1;33m|\u001b[0m \u001b[1;32mNone\u001b[0m \u001b[1;33m=\u001b[0m \u001b[1;32mNone\u001b[0m\u001b[1;33m\u001b[0m\u001b[1;33m\u001b[0m\u001b[0m\n\u001b[1;32m-> 1442\u001b[1;33m         \u001b[0mself\u001b[0m\u001b[1;33m.\u001b[0m\u001b[0m_engine\u001b[0m \u001b[1;33m=\u001b[0m \u001b[0mself\u001b[0m\u001b[1;33m.\u001b[0m\u001b[0m_make_engine\u001b[0m\u001b[1;33m(\u001b[0m\u001b[0mf\u001b[0m\u001b[1;33m,\u001b[0m \u001b[0mself\u001b[0m\u001b[1;33m.\u001b[0m\u001b[0mengine\u001b[0m\u001b[1;33m)\u001b[0m\u001b[1;33m\u001b[0m\u001b[1;33m\u001b[0m\u001b[0m\n\u001b[0m\u001b[0;32m   1443\u001b[0m \u001b[1;33m\u001b[0m\u001b[0m\n\u001b[0;32m   1444\u001b[0m     \u001b[1;32mdef\u001b[0m \u001b[0mclose\u001b[0m\u001b[1;33m(\u001b[0m\u001b[0mself\u001b[0m\u001b[1;33m)\u001b[0m \u001b[1;33m->\u001b[0m \u001b[1;32mNone\u001b[0m\u001b[1;33m:\u001b[0m\u001b[1;33m\u001b[0m\u001b[1;33m\u001b[0m\u001b[0m\n",
      "\u001b[1;32m~\\AppData\\Roaming\\Python\\Python39\\site-packages\\pandas\\io\\parsers\\readers.py\u001b[0m in \u001b[0;36m_make_engine\u001b[1;34m(self, f, engine)\u001b[0m\n\u001b[0;32m   1733\u001b[0m                 \u001b[1;32mif\u001b[0m \u001b[1;34m\"b\"\u001b[0m \u001b[1;32mnot\u001b[0m \u001b[1;32min\u001b[0m \u001b[0mmode\u001b[0m\u001b[1;33m:\u001b[0m\u001b[1;33m\u001b[0m\u001b[1;33m\u001b[0m\u001b[0m\n\u001b[0;32m   1734\u001b[0m                     \u001b[0mmode\u001b[0m \u001b[1;33m+=\u001b[0m \u001b[1;34m\"b\"\u001b[0m\u001b[1;33m\u001b[0m\u001b[1;33m\u001b[0m\u001b[0m\n\u001b[1;32m-> 1735\u001b[1;33m             self.handles = get_handle(\n\u001b[0m\u001b[0;32m   1736\u001b[0m                 \u001b[0mf\u001b[0m\u001b[1;33m,\u001b[0m\u001b[1;33m\u001b[0m\u001b[1;33m\u001b[0m\u001b[0m\n\u001b[0;32m   1737\u001b[0m                 \u001b[0mmode\u001b[0m\u001b[1;33m,\u001b[0m\u001b[1;33m\u001b[0m\u001b[1;33m\u001b[0m\u001b[0m\n",
      "\u001b[1;32m~\\AppData\\Roaming\\Python\\Python39\\site-packages\\pandas\\io\\common.py\u001b[0m in \u001b[0;36mget_handle\u001b[1;34m(path_or_buf, mode, encoding, compression, memory_map, is_text, errors, storage_options)\u001b[0m\n\u001b[0;32m    854\u001b[0m         \u001b[1;32mif\u001b[0m \u001b[0mioargs\u001b[0m\u001b[1;33m.\u001b[0m\u001b[0mencoding\u001b[0m \u001b[1;32mand\u001b[0m \u001b[1;34m\"b\"\u001b[0m \u001b[1;32mnot\u001b[0m \u001b[1;32min\u001b[0m \u001b[0mioargs\u001b[0m\u001b[1;33m.\u001b[0m\u001b[0mmode\u001b[0m\u001b[1;33m:\u001b[0m\u001b[1;33m\u001b[0m\u001b[1;33m\u001b[0m\u001b[0m\n\u001b[0;32m    855\u001b[0m             \u001b[1;31m# Encoding\u001b[0m\u001b[1;33m\u001b[0m\u001b[1;33m\u001b[0m\u001b[0m\n\u001b[1;32m--> 856\u001b[1;33m             handle = open(\n\u001b[0m\u001b[0;32m    857\u001b[0m                 \u001b[0mhandle\u001b[0m\u001b[1;33m,\u001b[0m\u001b[1;33m\u001b[0m\u001b[1;33m\u001b[0m\u001b[0m\n\u001b[0;32m    858\u001b[0m                 \u001b[0mioargs\u001b[0m\u001b[1;33m.\u001b[0m\u001b[0mmode\u001b[0m\u001b[1;33m,\u001b[0m\u001b[1;33m\u001b[0m\u001b[1;33m\u001b[0m\u001b[0m\n",
      "\u001b[1;31mFileNotFoundError\u001b[0m: [Errno 2] No such file or directory: 'C'"
     ]
    }
   ],
   "source": [
    "med_df=pd.concat(map(pd.read_csv, files), ignore_index=True)\n",
    "print(med_Df)"
   ]
  },
  {
   "cell_type": "code",
   "execution_count": 105,
   "id": "3f13fd57",
   "metadata": {
    "ExecuteTime": {
     "end_time": "2022-12-13T19:27:58.479385Z",
     "start_time": "2022-12-13T19:27:58.455366Z"
    }
   },
   "outputs": [],
   "source": [
    "a=os.listdir()"
   ]
  },
  {
   "cell_type": "code",
   "execution_count": 106,
   "id": "e7ff6fc6",
   "metadata": {
    "ExecuteTime": {
     "end_time": "2022-12-13T19:28:00.633063Z",
     "start_time": "2022-12-13T19:28:00.609063Z"
    }
   },
   "outputs": [
    {
     "data": {
      "text/plain": [
       "['.~lock.medical_data2.csv#',\n",
       " 'medical_data.csv',\n",
       " 'medical_data1.csv',\n",
       " 'medical_data2.csv']"
      ]
     },
     "execution_count": 106,
     "metadata": {},
     "output_type": "execute_result"
    }
   ],
   "source": [
    "a"
   ]
  },
  {
   "cell_type": "code",
   "execution_count": null,
   "id": "41c57fc2",
   "metadata": {},
   "outputs": [],
   "source": []
  },
  {
   "cell_type": "code",
   "execution_count": null,
   "id": "ed446b90",
   "metadata": {},
   "outputs": [],
   "source": []
  },
  {
   "cell_type": "code",
   "execution_count": null,
   "id": "59fa0922",
   "metadata": {},
   "outputs": [],
   "source": []
  }
 ],
 "metadata": {
  "kernelspec": {
   "display_name": "Python 3 (ipykernel)",
   "language": "python",
   "name": "python3"
  },
  "language_info": {
   "codemirror_mode": {
    "name": "ipython",
    "version": 3
   },
   "file_extension": ".py",
   "mimetype": "text/x-python",
   "name": "python",
   "nbconvert_exporter": "python",
   "pygments_lexer": "ipython3",
   "version": "3.9.13"
  }
 },
 "nbformat": 4,
 "nbformat_minor": 5
}
